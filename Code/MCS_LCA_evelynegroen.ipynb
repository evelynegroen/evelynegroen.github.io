{
 "cells": [
  {
   "cell_type": "markdown",
   "metadata": {},
   "source": [
    "## Procedure:     Uncertainty propagation for matrix-based LCA\n",
    "\n"
   ]
  },
  {
   "cell_type": "markdown",
   "metadata": {},
   "source": [
    "### Method:        Monte Carlo simulation (normal random)\n",
    "\n",
    "Author:        Evelyne Groen {evelyne [dot] groen [at] gmail [dot] com}\n",
    "\n",
    "Last update:   28/09/2016 "
   ]
  },
  {
   "cell_type": "code",
   "execution_count": 64,
   "metadata": {
    "collapsed": false
   },
   "outputs": [
    {
     "name": "stdout",
     "output_type": "stream",
     "text": [
      "[[ 120.]]\n"
     ]
    }
   ],
   "source": [
    "import numpy as np \n",
    "\n",
    "A_det = np.matrix('10 0; -2 100') #A-matrix\n",
    "B_det = np.matrix('1 10')         #B-matrix\n",
    "f = np.matrix('1000; 0')          #Functional unit vector f\n",
    "\n",
    "g_LCA = B_det * A_det.I * f \n",
    "print(g_LCA)                      #Deterministic result \n"
   ]
  },
  {
   "cell_type": "markdown",
   "metadata": {},
   "source": [
    "### Monte Carlo simulation using normal distribution functions for all input parameters\n",
    "\n",
    "The mean values are equal to the initial values of A and B. \n",
    "The standard deviation equals 5% of the mean of A and B. "
   ]
  },
  {
   "cell_type": "code",
   "execution_count": 65,
   "metadata": {
    "collapsed": false
   },
   "outputs": [
    {
     "data": {
      "image/png": "[encoded data removed]",
      "text/plain": [
       "<matplotlib.figure.Figure at 0x11a5aa550>"
      ]
     },
     "metadata": {},
     "output_type": "display_data"
    }
   ],
   "source": [
    "N = 1000                           #Sample size\n",
    "CV = 0.05                        #Coefficient of variation (CV = sigma/mu)\n",
    "\n",
    "import random\n",
    "\n",
    "As = [random.normalvariate(A_det, CV*A_det) for i in range(0,N)]\n",
    "Bs = [random.normalvariate(B_det, CV*B_det) for i in range(0,N)]\n",
    "f  = np.matrix('1000; 0')\n",
    "\n",
    "gs = [B * A.I * f for A, B in zip(As, Bs)]\n",
    "\n",
    "g_list =[g[0,0] for g in gs]\n",
    "\n",
    "%matplotlib inline\n",
    "\n",
    "import matplotlib\n",
    "import matplotlib.pyplot as plt\n",
    "\n",
    "plt.hist(g_list,20)\n",
    "plt.title(\"Histogram\")\n",
    "plt.xlabel(\"kg CO2\")\n",
    "plt.ylabel(\"Frequency\")\n",
    "\n",
    "fig = plt.gcf()\n"
   ]
  },
  {
   "cell_type": "code",
   "execution_count": null,
   "metadata": {
    "collapsed": true
   },
   "outputs": [],
   "source": []
  }
 ],
 "metadata": {
  "kernelspec": {
   "display_name": "Python 3",
   "language": "python",
   "name": "python3"
  },
  "language_info": {
   "codemirror_mode": {
    "name": "ipython",
    "version": 3
   },
   "file_extension": ".py",
   "mimetype": "text/x-python",
   "name": "python",
   "nbconvert_exporter": "python",
   "pygments_lexer": "ipython3",
   "version": "3.5.2"
  }
 },
 "nbformat": 4,
 "nbformat_minor": 0
}
