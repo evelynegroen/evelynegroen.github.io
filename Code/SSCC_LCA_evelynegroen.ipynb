{
 "cells": [
  {
   "cell_type": "markdown",
   "metadata": {},
   "source": [
    "## Procedure:     Global sensitivity analysis for matrix-based LCA\n",
    "### Method:        Squared Spearman correlation coefficients (SSCC) & MCS: Monte Carlo simulation (normal random)\n",
    "\n",
    "Author:        Evelyne Groen {evelyne [dot] groen [at] gmail [dot] com}\n",
    "\n",
    "Last update:   25/10/2016"
   ]
  },
  {
   "cell_type": "code",
   "execution_count": 1,
   "metadata": {
    "collapsed": false
   },
   "outputs": [
    {
     "name": "stdout",
     "output_type": "stream",
     "text": [
      "The deterministic result is: 120.0\n"
     ]
    }
   ],
   "source": [
    "import numpy as np \n",
    "\n",
    "A_det = np.matrix('10 0; -2 100') #A-matrix\n",
    "B_det = np.matrix('1 10')         #B-matrix\n",
    "f = np.matrix('1000; 0')          #Functional unit vector f\n",
    "\n",
    "g_LCA = B_det * A_det.I * f \n",
    "print(\"The deterministic result is:\", g_LCA[0,0])   "
   ]
  },
  {
   "cell_type": "markdown",
   "metadata": {},
   "source": [
    "### Step 1: Uncertainty propagation\n",
    "\n",
    "Monte Carlo simulation using normal distribution functions for all input parameters\n",
    "\n",
    "The mean values are equal to the initial values of A and B. \n",
    "The standard deviation equals 5% of the mean of A and B. "
   ]
  },
  {
   "cell_type": "code",
   "execution_count": 2,
   "metadata": {
    "collapsed": false
   },
   "outputs": [
    {
     "name": "stdout",
     "output_type": "stream",
     "text": [
      "The output variance equals: 64.0363375251\n"
     ]
    }
   ],
   "source": [
    "N = 1000                        #Sample size\n",
    "CV = 0.05                       #Coefficient of variation (CV = sigma/mu)\n",
    "\n",
    "import random\n",
    "\n",
    "A1 = [random.gauss(A_det[0,0], CV*A_det[0,0]) for i in range(N)]\n",
    "A3 = [random.gauss(A_det[1,0], CV*A_det[1,0]) for i in range(N)]\n",
    "A4 = [random.gauss(A_det[1,1], CV*A_det[1,1]) for i in range(N)]\n",
    "\n",
    "B1 = [random.gauss(B_det[0,0], CV*B_det[0,0]) for i in range(N)]\n",
    "B2 = [random.gauss(B_det[0,1], CV*B_det[0,1]) for i in range(N)]\n",
    "\n",
    "\n",
    "As = [np.matrix([[A1[i], 0],[A3[i], A4[i]]]) for i in range(N)]\n",
    "Bs = [np.matrix([[B1[i], B2[i]]]) for i in range(N)]\n",
    "\n",
    "f  = np.matrix('1000; 0')\n",
    "\n",
    "gs = [B * A.I * f for A, B in zip(As, Bs)]\n",
    "\n",
    "g_list =[g[0,0] for g in gs]\n",
    "\n",
    "import statistics as stats\n",
    "var_g = stats.variance(g_list)\n",
    "print(\"The output variance equals:\", var_g)\n"
   ]
  },
  {
   "cell_type": "markdown",
   "metadata": {},
   "source": [
    "### Step 2: Calculate the squared correlation coefficients"
   ]
  },
  {
   "cell_type": "code",
   "execution_count": 3,
   "metadata": {
    "collapsed": false
   },
   "outputs": [
    {
     "name": "stdout",
     "output_type": "stream",
     "text": [
      "squared Spearman correlation coefficients: [0.50527067659885616, 0.019213488142186382, 0.013177836335111518, 0.38585788760674089, 0.011218422511488057]\n"
     ]
    }
   ],
   "source": [
    "#Reshape the data\n",
    "g_list = np.reshape([g[0,0] for g in gs], (N,1))\n",
    "As_list = np.reshape(As, (N,4))\n",
    "Bs_list = np.reshape(Bs, (N,2))\n",
    "\n",
    "Ps_list = np.concatenate((np.ones((N,1)), As_list[:,:1], As_list[:,2:], Bs_list), axis=1)\n",
    "\n",
    "from scipy.stats import rankdata\n",
    "import statistics as stats\n",
    "\n",
    "#Transform to rankdata\n",
    "Ps_rank = [rankdata(Ps_list[:,k]) for k in range(1,6)]\n",
    "g_rank = [rankdata(g_list[:,0])]\n",
    "\n",
    "covar = [np.cov(Ps_rank[k],g_rank[0]) for k in range(0,5)]\n",
    "\n",
    "std_rank = np.std(Ps_rank, axis = 1)\n",
    "std_rank_g = np.std(g_rank)\n",
    "\n",
    "SSCC = [(covar[k][0,1] / (std_rank[k] * std_rank_g))**2 for k in range(0,5)]\n",
    "print(\"squared Spearman correlation coefficients:\", SSCC)\n"
   ]
  },
  {
   "cell_type": "markdown",
   "metadata": {},
   "source": [
    "### Visualize"
   ]
  },
  {
   "cell_type": "code",
   "execution_count": 4,
   "metadata": {
    "collapsed": false
   },
   "outputs": [
    {
     "data": {
      "image/png": "[encoded data removed]",
      "text/plain": [
       "<matplotlib.figure.Figure at 0x10bdd7438>"
      ]
     },
     "metadata": {},
     "output_type": "display_data"
    }
   ],
   "source": [
    "import matplotlib.pyplot as plt\n",
    "import matplotlib.pyplot as plt\n",
    "\n",
    "SSCC_procent = [SSCC[k] * 100 for k in range(0,5)]\n",
    "\n",
    "x_label=[ 'A(1,1)', 'A(2,1)', 'A(2,2)', 'B(1,1)', 'B(1,2)']\n",
    "x_pos = range(5)\n",
    "plt.bar(x_pos, SSCC_procent, align='center')\n",
    "plt.xticks(x_pos, x_label)\n",
    "plt.title('Global sensitivity analysis: squared Spearman correlation coefficients')\n",
    "plt.ylabel('SSCC (%)')\n",
    "plt.xlabel('Parameter')\n",
    "plt.show('Figure 1')\n"
   ]
  },
  {
   "cell_type": "code",
   "execution_count": null,
   "metadata": {
    "collapsed": true
   },
   "outputs": [],
   "source": []
  }
 ],
 "metadata": {
  "kernelspec": {
   "display_name": "Python 3",
   "language": "python",
   "name": "python3"
  },
  "language_info": {
   "codemirror_mode": {
    "name": "ipython",
    "version": 3
   },
   "file_extension": ".py",
   "mimetype": "text/x-python",
   "name": "python",
   "nbconvert_exporter": "python",
   "pygments_lexer": "ipython3",
   "version": "3.5.2"
  }
 },
 "nbformat": 4,
 "nbformat_minor": 0
}
