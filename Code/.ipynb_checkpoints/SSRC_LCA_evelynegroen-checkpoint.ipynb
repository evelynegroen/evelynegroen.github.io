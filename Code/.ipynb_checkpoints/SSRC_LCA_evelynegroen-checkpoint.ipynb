{
 "cells": [
  {
   "cell_type": "markdown",
   "metadata": {},
   "source": [
    "## Procedure:     Global sensitivity analysis for matrix-based LCA\n",
    "### Method:        Squared standardized regression coefficients (SSRC) & MCS: Monte Carlo simulation (normal random)\n",
    "\n",
    "Author:        Evelyne Groen {evelyne [dot] groen [at] gmail [dot] com}\n",
    "\n",
    "Last update:   25/10/2016"
   ]
  },
  {
   "cell_type": "code",
   "execution_count": 1,
   "metadata": {
    "collapsed": false
   },
   "outputs": [
    {
     "name": "stdout",
     "output_type": "stream",
     "text": [
      "The deterministic result is: 120.0\n"
     ]
    }
   ],
   "source": [
    "import numpy as np \n",
    "\n",
    "A_det = np.matrix('10 0; -2 100') #A-matrix\n",
    "B_det = np.matrix('1 10')         #B-matrix\n",
    "f = np.matrix('1000; 0')          #Functional unit vector f\n",
    "\n",
    "g_LCA = B_det * A_det.I * f \n",
    "print(\"The deterministic result is:\", g_LCA[0,0])   "
   ]
  },
  {
   "cell_type": "markdown",
   "metadata": {},
   "source": [
    "### Step 1: Uncertainty propagation\n",
    "\n",
    "Monte Carlo simulation using normal distribution functions for all input parameters\n",
    "\n",
    "The mean values are equal to the initial values of A and B. \n",
    "The standard deviation equals 5% of the mean of A and B. "
   ]
  },
  {
   "cell_type": "code",
   "execution_count": 2,
   "metadata": {
    "collapsed": false
   },
   "outputs": [
    {
     "name": "stdout",
     "output_type": "stream",
     "text": [
      "The output variance equals: 67.837485971\n"
     ]
    }
   ],
   "source": [
    "N = 1000                        #Sample size\n",
    "CV = 0.05                       #Coefficient of variation (CV = sigma/mu)\n",
    "\n",
    "import random\n",
    "\n",
    "A1 = [random.gauss(A_det[0,0], CV*A_det[0,0]) for i in range(N)]\n",
    "A3 = [random.gauss(A_det[1,0], CV*A_det[1,0]) for i in range(N)]\n",
    "A4 = [random.gauss(A_det[1,1], CV*A_det[1,1]) for i in range(N)]\n",
    "\n",
    "B1 = [random.gauss(B_det[0,0], CV*B_det[0,0]) for i in range(N)]\n",
    "B2 = [random.gauss(B_det[0,1], CV*B_det[0,1]) for i in range(N)]\n",
    "\n",
    "\n",
    "As = [np.matrix([[A1[i], 0],[A3[i], A4[i]]]) for i in range(N)]\n",
    "Bs = [np.matrix([[B1[i], B2[i]]]) for i in range(N)]\n",
    "\n",
    "f  = np.matrix('1000; 0')\n",
    "\n",
    "gs = [B * A.I * f for A, B in zip(As, Bs)]\n",
    "\n",
    "g_list =[g[0,0] for g in gs]\n",
    "\n",
    "import statistics as stats\n",
    "var_g = stats.variance(g_list)\n",
    "print(\"The output variance equals:\", var_g)\n"
   ]
  },
  {
   "cell_type": "markdown",
   "metadata": {},
   "source": [
    "### Step 2: Calculate the regression coefficients"
   ]
  },
  {
   "cell_type": "code",
   "execution_count": 4,
   "metadata": {
    "collapsed": false
   },
   "outputs": [
    {
     "name": "stdout",
     "output_type": "stream",
     "text": [
      "Regression coefficients: [[ 121.53798612]\n",
      " [ -12.03457281]\n",
      " [  -9.82054289]\n",
      " [  -0.20142098]\n",
      " [  99.66708199]\n",
      " [   2.00013677]]\n"
     ]
    }
   ],
   "source": [
    "#Reshape the data\n",
    "g_list = np.reshape([g[0,0] for g in gs], (N,1))\n",
    "As_list = np.reshape(As, (N,4))\n",
    "Bs_list = np.reshape(Bs, (N,2))\n",
    "\n",
    "Ps_list = np.concatenate((np.ones((N,1)), As_list[:,:1], As_list[:,2:], Bs_list), axis=1)\n",
    "\n",
    "from numpy.linalg import inv\n",
    "RC = np.dot( np.dot( inv( (np.dot(Ps_list.T, Ps_list)) ), Ps_list.T), g_list)\n",
    "print(\"Regression coefficients:\", RC)"
   ]
  },
  {
   "cell_type": "markdown",
   "metadata": {},
   "source": [
    "### Step 3: calculate the squared standardized regression coefficients"
   ]
  },
  {
   "cell_type": "code",
   "execution_count": 5,
   "metadata": {
    "collapsed": false
   },
   "outputs": [
    {
     "name": "stdout",
     "output_type": "stream",
     "text": [
      "squared standardized regression coefficients: [ 0.54750413  0.01396637  0.01485254  0.38274565  0.01420565]\n"
     ]
    }
   ],
   "source": [
    "import statistics as stats\n",
    "\n",
    "var_g = stats.variance(g_list[:,0])\n",
    "var_x = [stats.variance(Ps_list[:,k]) for k in range(1,6)]\n",
    "\n",
    "SSRC =  (var_x/var_g) * (RC[1:6,0]**2)\n",
    "print(\"squared standardized regression coefficients:\", SSRC)"
   ]
  },
  {
   "cell_type": "markdown",
   "metadata": {},
   "source": [
    "### Visualize"
   ]
  },
  {
   "cell_type": "code",
   "execution_count": 6,
   "metadata": {
    "collapsed": false
   },
   "outputs": [
    {
     "data": {
      "image/png": "[encoded data removed]",
      "text/plain": [
       "<matplotlib.figure.Figure at 0x10bdd5cc0>"
      ]
     },
     "metadata": {},
     "output_type": "display_data"
    }
   ],
   "source": [
    "import matplotlib.pyplot as plt\n",
    "import matplotlib.pyplot as plt\n",
    "\n",
    "SSRC_procent = SSRC * 100\n",
    "\n",
    "x_label=[ 'A(1,1)', 'A(2,1)', 'A(2,2)', 'B(1,1)', 'B(1,2)']\n",
    "x_pos = range(5)\n",
    "plt.bar(x_pos, SSRC_procent, align='center')\n",
    "plt.xticks(x_pos, x_label)\n",
    "plt.title('Global sensitivity analysis: squared standardized regression coefficients')\n",
    "plt.ylabel('SSRC (%)')\n",
    "plt.xlabel('Parameter')\n",
    "plt.show()"
   ]
  },
  {
   "cell_type": "code",
   "execution_count": null,
   "metadata": {
    "collapsed": true
   },
   "outputs": [],
   "source": []
  }
 ],
 "metadata": {
  "kernelspec": {
   "display_name": "Python 3",
   "language": "python",
   "name": "python3"
  },
  "language_info": {
   "codemirror_mode": {
    "name": "ipython",
    "version": 3
   },
   "file_extension": ".py",
   "mimetype": "text/x-python",
   "name": "python",
   "nbconvert_exporter": "python",
   "pygments_lexer": "ipython3",
   "version": "3.5.2"
  }
 },
 "nbformat": 4,
 "nbformat_minor": 0
}
