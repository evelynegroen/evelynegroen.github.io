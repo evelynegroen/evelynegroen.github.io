{
 "cells": [
  {
   "cell_type": "markdown",
   "metadata": {},
   "source": [
    "## Procedure:     Uncertainty propagation for matrix-based LCA\n",
    "\n"
   ]
  },
  {
   "cell_type": "markdown",
   "metadata": {},
   "source": [
    "### Method:        Monte Carlo simulation (normal random)\n",
    "\n",
    "Author:        Evelyne Groen {evelyne [dot] groen [at] gmail [dot] com}\n",
    "\n",
    "Last update:   25/10/2016 "
   ]
  },
  {
   "cell_type": "code",
   "execution_count": 21,
   "metadata": {
    "collapsed": false
   },
   "outputs": [
    {
     "name": "stdout",
     "output_type": "stream",
     "text": [
      "The deterministic result is: 120.0\n"
     ]
    }
   ],
   "source": [
    "import numpy as np \n",
    "\n",
    "A_det = np.matrix('10 0; -2 100') #A-matrix\n",
    "B_det = np.matrix('1 10')         #B-matrix\n",
    "f = np.matrix('1000; 0')          #Functional unit vector f\n",
    "\n",
    "g_LCA = B_det * A_det.I * f \n",
    "print(\"The deterministic result is:\", g_LCA[0,0])                    \n"
   ]
  },
  {
   "cell_type": "markdown",
   "metadata": {},
   "source": [
    "### Monte Carlo simulation using normal distribution functions for all input parameters\n",
    "\n",
    "The mean values are equal to the initial values of A and B. \n",
    "The standard deviation equals 5% of the mean of A and B. "
   ]
  },
  {
   "cell_type": "code",
   "execution_count": 19,
   "metadata": {
    "collapsed": false
   },
   "outputs": [
    {
     "data": {
      "image/png": "[encoded data removed]",
      "text/plain": [
       "<matplotlib.figure.Figure at 0x10da41e48>"
      ]
     },
     "metadata": {},
     "output_type": "display_data"
    }
   ],
   "source": [
    "N = 1000                        #Sample size\n",
    "CV = 0.05                       #Coefficient of variation (CV = sigma/mu)\n",
    "\n",
    "import random\n",
    "\n",
    "A1 = [random.gauss(A_det[0,0], CV*A_det[0,0]) for i in range(N)]\n",
    "A3 = [random.gauss(A_det[1,0], CV*A_det[1,0]) for i in range(N)]\n",
    "A4 = [random.gauss(A_det[1,1], CV*A_det[1,1]) for i in range(N)]\n",
    "\n",
    "B1 = [random.gauss(B_det[0,0], CV*B_det[0,0]) for i in range(N)]\n",
    "B2 = [random.gauss(B_det[0,1], CV*B_det[0,1]) for i in range(N)]\n",
    "\n",
    "\n",
    "As = [np.matrix([[A1[i], 0],[A3[i], A4[i]]]) for i in range(N)]\n",
    "Bs = [np.matrix([[B1[i], B2[i]]]) for i in range(N)]\n",
    "\n",
    "f  = np.matrix('1000; 0')\n",
    "\n",
    "gs = [B * A.I * f for A, B in zip(As, Bs)]\n",
    "\n",
    "g_list =[g[0,0] for g in gs]\n",
    "\n",
    "%matplotlib inline\n",
    "\n",
    "import matplotlib\n",
    "import matplotlib.pyplot as plt\n",
    "\n",
    "plt.hist(g_list,20)\n",
    "plt.title(\"Histogram\")\n",
    "plt.xlabel(\"kg CO2\")\n",
    "plt.ylabel(\"Frequency\")\n",
    "\n",
    "fig = plt.gcf()\n"
   ]
  },
  {
   "cell_type": "code",
   "execution_count": 22,
   "metadata": {
    "collapsed": false
   },
   "outputs": [
    {
     "name": "stdout",
     "output_type": "stream",
     "text": [
      "The output variance equals: 60.1922408019\n"
     ]
    }
   ],
   "source": [
    "import statistics as stats\n",
    "var_g = stats.variance(g_list)\n",
    "print(\"The output variance equals:\", var_g)"
   ]
  },
  {
   "cell_type": "code",
   "execution_count": null,
   "metadata": {
    "collapsed": true
   },
   "outputs": [],
   "source": []
  }
 ],
 "metadata": {
  "kernelspec": {
   "display_name": "Python 3",
   "language": "python",
   "name": "python3"
  },
  "language_info": {
   "codemirror_mode": {
    "name": "ipython",
    "version": 3
   },
   "file_extension": ".py",
   "mimetype": "text/x-python",
   "name": "python",
   "nbconvert_exporter": "python",
   "pygments_lexer": "ipython3",
   "version": "3.5.2"
  }
 },
 "nbformat": 4,
 "nbformat_minor": 0
}
