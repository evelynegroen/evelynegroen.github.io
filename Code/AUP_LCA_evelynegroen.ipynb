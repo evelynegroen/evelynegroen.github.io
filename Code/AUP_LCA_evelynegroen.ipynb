{
 "cells": [
  {
   "cell_type": "markdown",
   "metadata": {},
   "source": [
    "## Procedure: Uncertainty propagation for matrix-based LCA\n",
    "### Method: Analytic uncertainty propagation (Taylor approximation)\n",
    "Author: Evelyne Groen {evelyne [dot] groen [at] gmail [dot] com}\n",
    "\n",
    "Last update: 25/10/2016\n"
   ]
  },
  {
   "cell_type": "code",
   "execution_count": 6,
   "metadata": {
    "collapsed": false
   },
   "outputs": [
    {
     "name": "stdout",
     "output_type": "stream",
     "text": [
      "The deterministic result is: 120.0\n"
     ]
    }
   ],
   "source": [
    "import numpy as np \n",
    "\n",
    "A_det = np.matrix('10 0; -2 100') #A-matrix\n",
    "B_det = np.matrix('1 10')         #B-matrix\n",
    "f = np.matrix('1000; 0')          #Functional unit vector f\n",
    "\n",
    "g_LCA = B_det * A_det.I * f \n",
    "\n",
    "print(\"The deterministic result is:\", g_LCA[0,0])                  \n"
   ]
  },
  {
   "cell_type": "markdown",
   "metadata": {},
   "source": [
    "### Step 1: Calculate partial derivatives\n",
    "NB: this is a vectorized implementation of the MatLab code that was originally written by Reinout Heijungs & Sangwong Suh\n"
   ]
  },
  {
   "cell_type": "code",
   "execution_count": 7,
   "metadata": {
    "collapsed": false
   },
   "outputs": [
    {
     "name": "stdout",
     "output_type": "stream",
     "text": [
      "The multipliers of the A-matrix are:\n",
      "[[-1.         -0.        ]\n",
      " [ 0.16666667 -0.16666667]]\n",
      "The multipliers of the B-matrix are:\n",
      "[[ 0.83333333  0.16666667]]\n"
     ]
    }
   ],
   "source": [
    "s = A_det.I * f                                 #scaling vector s: inv(A_det)*f\n",
    "Lambda = B_det * A_det.I;                       #B_det*inv(A)\n",
    "\n",
    "dgdA = -(s * Lambda).T                          #Partial derivatives A-matrix\n",
    "Gamma_A = np.multiply((A_det/g_LCA), dgdA)      #For free: the multipliers of the A-matrix\n",
    "print(\"The multipliers of the A-matrix are:\")\n",
    "print(Gamma_A)\n",
    "\n",
    "dgdB = s.T                                      #Partial derivatives B-matrix\n",
    "Gamma_B = np.multiply((B_det/g_LCA), dgdB)      #For free too: the multipliers of the B-matrix\n",
    "print(\"The multipliers of the B-matrix are:\")\n",
    "print(Gamma_B)"
   ]
  },
  {
   "cell_type": "markdown",
   "metadata": {},
   "source": [
    "### Step 2: Determine output variance"
   ]
  },
  {
   "cell_type": "code",
   "execution_count": 17,
   "metadata": {
    "collapsed": false
   },
   "outputs": [
    {
     "name": "stdout",
     "output_type": "stream",
     "text": [
      "The total output variance equals: 64.0\n"
     ]
    }
   ],
   "source": [
    "CV = 0.05                             #Coefficient of variation set to 5% (CV = sigma/mu)\n",
    "var_A = np.power(abs(CV*A_det),2)     #Variance of the A-matrix (var =sigma^2)\n",
    "var_B = np.power(abs(CV*B_det),2)     #Variance of the B-matrix\n",
    " \n",
    "P = np.concatenate((np.reshape(dgdA, 4), dgdB), axis=1)       #P contains partial derivatives of both A and B \n",
    "var_P = np.concatenate((np.reshape(var_A, 4), var_B), axis=1) #var_P contains all variances of each parameter in A and B\n",
    "\n",
    "var_g = np.sum(np.multiply(np.power(P, 2), var_P))             #Total output variance (first order Taylor)\n",
    "\n",
    "print(\"The total output variance equals:\", var_g)\n"
   ]
  },
  {
   "cell_type": "code",
   "execution_count": null,
   "metadata": {
    "collapsed": true
   },
   "outputs": [],
   "source": []
  }
 ],
 "metadata": {
  "kernelspec": {
   "display_name": "Python 3",
   "language": "python",
   "name": "python3"
  },
  "language_info": {
   "codemirror_mode": {
    "name": "ipython",
    "version": 3
   },
   "file_extension": ".py",
   "mimetype": "text/x-python",
   "name": "python",
   "nbconvert_exporter": "python",
   "pygments_lexer": "ipython3",
   "version": "3.5.2"
  }
 },
 "nbformat": 4,
 "nbformat_minor": 0
}
